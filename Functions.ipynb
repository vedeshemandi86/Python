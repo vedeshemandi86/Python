{
  "nbformat": 4,
  "nbformat_minor": 0,
  "metadata": {
    "colab": {
      "name": "Functions",
      "provenance": [],
      "authorship_tag": "ABX9TyMRlyaWZRRnqm84Ayo0eYRA",
      "include_colab_link": true
    },
    "kernelspec": {
      "name": "python3",
      "display_name": "Python 3"
    },
    "language_info": {
      "name": "python"
    }
  },
  "cells": [
    {
      "cell_type": "markdown",
      "metadata": {
        "id": "view-in-github",
        "colab_type": "text"
      },
      "source": [
        "<a href=\"https://colab.research.google.com/github/vedeshemandi86/Python/blob/main/Functions.ipynb\" target=\"_parent\"><img src=\"https://colab.research.google.com/assets/colab-badge.svg\" alt=\"Open In Colab\"/></a>"
      ]
    },
    {
      "cell_type": "code",
      "source": [
        "def fun():\n",
        "  print('my first function')\n",
        "fun()"
      ],
      "metadata": {
        "colab": {
          "base_uri": "https://localhost:8080/"
        },
        "id": "tAediC6VVQr0",
        "outputId": "4fa3bb7a-a1af-4df6-dea9-c43e8240b4f7"
      },
      "execution_count": null,
      "outputs": [
        {
          "output_type": "stream",
          "name": "stdout",
          "text": [
            "my first function\n"
          ]
        }
      ]
    },
    {
      "cell_type": "code",
      "source": [
        "def fun(name):\n",
        "  print(name +' Man')\n",
        "fun('Spider')\n",
        "fun('Iron')\n",
        "fun('Ant')"
      ],
      "metadata": {
        "colab": {
          "base_uri": "https://localhost:8080/"
        },
        "id": "T_v6MXFrV5OK",
        "outputId": "7e74b9c0-28e4-45f0-b15b-b3b141b6eb99"
      },
      "execution_count": null,
      "outputs": [
        {
          "output_type": "stream",
          "name": "stdout",
          "text": [
            "Spider Man\n",
            "Iron Man\n",
            "Ant Man\n"
          ]
        }
      ]
    },
    {
      "cell_type": "code",
      "source": [
        "def fun(name,pow):\n",
        "  print(name+ ' ' +pow)\n",
        "fun('Spiderman','superstrenght')"
      ],
      "metadata": {
        "colab": {
          "base_uri": "https://localhost:8080/"
        },
        "id": "dvqWxtCAWmSp",
        "outputId": "2213c0a9-80b8-4416-8526-ef5feefa89d0"
      },
      "execution_count": null,
      "outputs": [
        {
          "output_type": "stream",
          "name": "stdout",
          "text": [
            "Spiderman superstrenght\n"
          ]
        }
      ]
    },
    {
      "cell_type": "code",
      "source": [
        "def fun(pow,name):\n",
        "  print(name+ ' ' +pow)\n",
        "fun('Spiderman','superstrenght')"
      ],
      "metadata": {
        "colab": {
          "base_uri": "https://localhost:8080/"
        },
        "id": "rJLDdDwZYyUY",
        "outputId": "34a8e976-8c9f-4623-8c24-8529627d7716"
      },
      "execution_count": null,
      "outputs": [
        {
          "output_type": "stream",
          "name": "stdout",
          "text": [
            "superstrenght Spiderman\n"
          ]
        }
      ]
    },
    {
      "cell_type": "code",
      "source": [
        "def fun(*hero):\n",
        "  print('The hero is '+ hero[0])\n",
        "fun('Spidey','TS')"
      ],
      "metadata": {
        "colab": {
          "base_uri": "https://localhost:8080/"
        },
        "id": "qhFXeS9aY54o",
        "outputId": "804e2f3e-7002-433e-aab7-738e37e85b08"
      },
      "execution_count": null,
      "outputs": [
        {
          "output_type": "stream",
          "name": "stdout",
          "text": [
            "The hero is Spidey\n"
          ]
        }
      ]
    },
    {
      "cell_type": "code",
      "source": [
        "def fun(child3, child2, child1):\n",
        "  print(\"The youngest child is \" + child1)\n",
        "\n",
        "fun(child2 = \"Emil\", child1 = \"Tobias\", child3 = \"Linus\")"
      ],
      "metadata": {
        "colab": {
          "base_uri": "https://localhost:8080/"
        },
        "id": "dCdlvtEZa5tZ",
        "outputId": "6cf772ce-b8d2-4d23-8a2f-33dbf6760338"
      },
      "execution_count": null,
      "outputs": [
        {
          "output_type": "stream",
          "name": "stdout",
          "text": [
            "The youngest child is Tobias\n"
          ]
        }
      ]
    },
    {
      "cell_type": "code",
      "source": [
        "def nCr(a,b):\n",
        "  return(fact(a)/(fact(b)*fact(a-b)))\n",
        "a = int(input(\"\"))\n",
        "b = int(input(\"\"))\n",
        "def fact(a):\n",
        "  res = 1\n",
        "  for i in range(2,a+1):\n",
        "    res = res*i\n",
        "  return res\n",
        "print(int(nCr(a,b)))\n"
      ],
      "metadata": {
        "colab": {
          "base_uri": "https://localhost:8080/"
        },
        "id": "9afxXo38sBVz",
        "outputId": "dd38303c-f332-433d-b2d5-59ef2790da9b"
      },
      "execution_count": 6,
      "outputs": [
        {
          "output_type": "stream",
          "name": "stdout",
          "text": [
            "6\n",
            "5\n",
            "6\n"
          ]
        }
      ]
    },
    {
      "cell_type": "code",
      "source": [
        "list1 = [1, 3, 5, 7, 9]\n",
        "list2=[1, 2, 4, 6, 7, 8]\n",
        "diff_list1_list2 = list(set(list1) - set(list2))\n",
        "diff_list2_list1 = list(set(list2) - set(list1))\n",
        "total_diff = diff_list1_list2 + diff_list2_list1\n",
        "print(total_diff)"
      ],
      "metadata": {
        "id": "xpZGjZj1bNHf",
        "colab": {
          "base_uri": "https://localhost:8080/"
        },
        "outputId": "0dde2b4d-fa14-46f3-cc2e-68ce81c64a43"
      },
      "execution_count": 2,
      "outputs": [
        {
          "output_type": "stream",
          "name": "stdout",
          "text": [
            "[9, 3, 5, 8, 2, 4, 6]\n"
          ]
        }
      ]
    },
    {
      "cell_type": "code",
      "source": [
        ""
      ],
      "metadata": {
        "id": "Wz4Yfdpiy8zl"
      },
      "execution_count": null,
      "outputs": []
    }
  ]
}