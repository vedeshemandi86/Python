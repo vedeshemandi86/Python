{
  "nbformat": 4,
  "nbformat_minor": 0,
  "metadata": {
    "colab": {
      "name": "Functions",
      "provenance": [],
      "authorship_tag": "ABX9TyMIDwblMhTvHWkBHa4Ibd/p",
      "include_colab_link": true
    },
    "kernelspec": {
      "name": "python3",
      "display_name": "Python 3"
    },
    "language_info": {
      "name": "python"
    }
  },
  "cells": [
    {
      "cell_type": "markdown",
      "metadata": {
        "id": "view-in-github",
        "colab_type": "text"
      },
      "source": [
        "<a href=\"https://colab.research.google.com/github/vedeshemandi86/Python/blob/main/Functions.ipynb\" target=\"_parent\"><img src=\"https://colab.research.google.com/assets/colab-badge.svg\" alt=\"Open In Colab\"/></a>"
      ]
    },
    {
      "cell_type": "code",
      "source": [
        "def fun():\n",
        "  print('my first function')\n",
        "fun()"
      ],
      "metadata": {
        "colab": {
          "base_uri": "https://localhost:8080/"
        },
        "id": "tAediC6VVQr0",
        "outputId": "4fa3bb7a-a1af-4df6-dea9-c43e8240b4f7"
      },
      "execution_count": 5,
      "outputs": [
        {
          "output_type": "stream",
          "name": "stdout",
          "text": [
            "my first function\n"
          ]
        }
      ]
    },
    {
      "cell_type": "code",
      "source": [
        "def fun(name):\n",
        "  print(name +' Man')\n",
        "fun('Spider')\n",
        "fun('Iron')\n",
        "fun('Ant')"
      ],
      "metadata": {
        "colab": {
          "base_uri": "https://localhost:8080/"
        },
        "id": "T_v6MXFrV5OK",
        "outputId": "7e74b9c0-28e4-45f0-b15b-b3b141b6eb99"
      },
      "execution_count": 7,
      "outputs": [
        {
          "output_type": "stream",
          "name": "stdout",
          "text": [
            "Spider Man\n",
            "Iron Man\n",
            "Ant Man\n"
          ]
        }
      ]
    },
    {
      "cell_type": "code",
      "source": [
        "def fun(name,pow):\n",
        "  print(name+ ' ' +pow)\n",
        "fun('Spiderman','superstrenght')"
      ],
      "metadata": {
        "colab": {
          "base_uri": "https://localhost:8080/"
        },
        "id": "dvqWxtCAWmSp",
        "outputId": "2213c0a9-80b8-4416-8526-ef5feefa89d0"
      },
      "execution_count": 9,
      "outputs": [
        {
          "output_type": "stream",
          "name": "stdout",
          "text": [
            "Spiderman superstrenght\n"
          ]
        }
      ]
    },
    {
      "cell_type": "code",
      "source": [
        "def fun(pow,name):\n",
        "  print(name+ ' ' +pow)\n",
        "fun('Spiderman','superstrenght')"
      ],
      "metadata": {
        "colab": {
          "base_uri": "https://localhost:8080/"
        },
        "id": "rJLDdDwZYyUY",
        "outputId": "34a8e976-8c9f-4623-8c24-8529627d7716"
      },
      "execution_count": 10,
      "outputs": [
        {
          "output_type": "stream",
          "name": "stdout",
          "text": [
            "superstrenght Spiderman\n"
          ]
        }
      ]
    },
    {
      "cell_type": "code",
      "source": [
        "def fun(*hero):\n",
        "  print('The hero is '+ hero[0])\n",
        "fun('Spidey','TS')"
      ],
      "metadata": {
        "colab": {
          "base_uri": "https://localhost:8080/"
        },
        "id": "qhFXeS9aY54o",
        "outputId": "804e2f3e-7002-433e-aab7-738e37e85b08"
      },
      "execution_count": 23,
      "outputs": [
        {
          "output_type": "stream",
          "name": "stdout",
          "text": [
            "The hero is Spidey\n"
          ]
        }
      ]
    },
    {
      "cell_type": "code",
      "source": [
        "def fun(child3, child2, child1):\n",
        "  print(\"The youngest child is \" + child1)\n",
        "\n",
        "fun(child2 = \"Emil\", child1 = \"Tobias\", child3 = \"Linus\")"
      ],
      "metadata": {
        "colab": {
          "base_uri": "https://localhost:8080/"
        },
        "id": "dCdlvtEZa5tZ",
        "outputId": "6cf772ce-b8d2-4d23-8a2f-33dbf6760338"
      },
      "execution_count": 15,
      "outputs": [
        {
          "output_type": "stream",
          "name": "stdout",
          "text": [
            "The youngest child is Tobias\n"
          ]
        }
      ]
    },
    {
      "cell_type": "code",
      "source": [
        ""
      ],
      "metadata": {
        "id": "xpZGjZj1bNHf"
      },
      "execution_count": null,
      "outputs": []
    }
  ]
}