{
  "nbformat": 4,
  "nbformat_minor": 0,
  "metadata": {
    "colab": {
      "name": "Control  Structures",
      "provenance": [],
      "collapsed_sections": [],
      "authorship_tag": "ABX9TyMDSfVYLClq5aaBSWp6EXnk",
      "include_colab_link": true
    },
    "kernelspec": {
      "name": "python3",
      "display_name": "Python 3"
    },
    "language_info": {
      "name": "python"
    }
  },
  "cells": [
    {
      "cell_type": "markdown",
      "metadata": {
        "id": "view-in-github",
        "colab_type": "text"
      },
      "source": [
        "<a href=\"https://colab.research.google.com/github/vedeshemandi86/Python/blob/main/Control_Structures.ipynb\" target=\"_parent\"><img src=\"https://colab.research.google.com/assets/colab-badge.svg\" alt=\"Open In Colab\"/></a>"
      ]
    },
    {
      "cell_type": "markdown",
      "source": [
        "Python While Loop\n"
      ],
      "metadata": {
        "id": "6IBx3Mx2Lmvd"
      }
    },
    {
      "cell_type": "code",
      "source": [
        "n = 10\n",
        "\n",
        "# initialize sum and counter\n",
        "sum = 0\n",
        "i = 1\n",
        "\n",
        "while i <= n:\n",
        "    sum = sum + i\n",
        "    i = i+1    # update counter\n",
        "\n",
        "# print the sum\n",
        "print(\"The sum is\", sum)"
      ],
      "metadata": {
        "colab": {
          "base_uri": "https://localhost:8080/"
        },
        "id": "rd2LitscLuo0",
        "outputId": "d1b6e214-f6f6-4d0a-cc1a-357ec4b3e833"
      },
      "execution_count": 1,
      "outputs": [
        {
          "output_type": "stream",
          "name": "stdout",
          "text": [
            "The sum is 55\n"
          ]
        }
      ]
    },
    {
      "cell_type": "code",
      "source": [
        "counter = 0\n",
        "\n",
        "while counter < 3:\n",
        "    print(\"Inside loop\")\n",
        "    counter = counter + 1\n",
        "else:\n",
        "    print(\"Inside else\")"
      ],
      "metadata": {
        "colab": {
          "base_uri": "https://localhost:8080/"
        },
        "id": "HQV5i3DKM0_L",
        "outputId": "bc39edaf-d263-42c0-acc3-d98070b1f734"
      },
      "execution_count": 2,
      "outputs": [
        {
          "output_type": "stream",
          "name": "stdout",
          "text": [
            "Inside loop\n",
            "Inside loop\n",
            "Inside loop\n",
            "Inside else\n"
          ]
        }
      ]
    },
    {
      "cell_type": "markdown",
      "source": [
        "Python For Loop"
      ],
      "metadata": {
        "id": "aKYpAFUCPloD"
      }
    },
    {
      "cell_type": "code",
      "source": [
        "numbers = [6, 5, 3, 8, 4, 2, 5, 4, 11]\n",
        "\n",
        "# variable to store the sum\n",
        "sum = 0\n",
        "\n",
        "# iterate over the list\n",
        "for val in numbers:\n",
        "    sum = sum+val\n",
        "\n",
        "print(\"The sum is\", sum)"
      ],
      "metadata": {
        "colab": {
          "base_uri": "https://localhost:8080/"
        },
        "id": "gpLPJrumPp1y",
        "outputId": "8967d9b2-4ea7-429f-f494-6da73443d1bf"
      },
      "execution_count": 4,
      "outputs": [
        {
          "output_type": "stream",
          "name": "stdout",
          "text": [
            "The sum is 48\n"
          ]
        }
      ]
    },
    {
      "cell_type": "code",
      "source": [
        "print(range(10))\n",
        "\n",
        "print(list(range(10)))\n",
        "\n",
        "print(list(range(2, 8)))\n",
        "\n",
        "print(list(range(2, 20, 3)))"
      ],
      "metadata": {
        "colab": {
          "base_uri": "https://localhost:8080/"
        },
        "id": "CL71YYTwP1VB",
        "outputId": "b19322fd-dfa4-471a-fbe5-319eadcd6a1a"
      },
      "execution_count": 5,
      "outputs": [
        {
          "output_type": "stream",
          "name": "stdout",
          "text": [
            "range(0, 10)\n",
            "[0, 1, 2, 3, 4, 5, 6, 7, 8, 9]\n",
            "[2, 3, 4, 5, 6, 7]\n",
            "[2, 5, 8, 11, 14, 17]\n"
          ]
        }
      ]
    },
    {
      "cell_type": "markdown",
      "source": [
        "Python If"
      ],
      "metadata": {
        "id": "_UlB1GK0QXhR"
      }
    },
    {
      "cell_type": "code",
      "source": [
        "num = 3\n",
        "if num > 0:\n",
        "    print(num, \"is a positive number.\")\n",
        "print(\"This is always printed.\")\n",
        "\n",
        "num = -1\n",
        "if num > 0:\n",
        "    print(num, \"is a positive number.\")\n",
        "print(\"This is also always printed.\")"
      ],
      "metadata": {
        "colab": {
          "base_uri": "https://localhost:8080/"
        },
        "id": "id5oVTgiQdyI",
        "outputId": "b910c350-33c2-4940-bffb-feccdec3fe65"
      },
      "execution_count": 6,
      "outputs": [
        {
          "output_type": "stream",
          "name": "stdout",
          "text": [
            "3 is a positive number.\n",
            "This is always printed.\n",
            "This is also always printed.\n"
          ]
        }
      ]
    },
    {
      "cell_type": "markdown",
      "source": [
        "Python If else"
      ],
      "metadata": {
        "id": "Uqqitc4_QyCq"
      }
    },
    {
      "cell_type": "code",
      "source": [
        "num = 3\n",
        "\n",
        "if num >= 0:\n",
        "    print(\"Positive or Zero\")\n",
        "else:\n",
        "    print(\"Negative number\")"
      ],
      "metadata": {
        "colab": {
          "base_uri": "https://localhost:8080/"
        },
        "id": "ENIT6Is1Q8wJ",
        "outputId": "b610c9b5-ed07-4a4d-c5ca-57c17b8cd21d"
      },
      "execution_count": 7,
      "outputs": [
        {
          "output_type": "stream",
          "name": "stdout",
          "text": [
            "Positive or Zero\n"
          ]
        }
      ]
    },
    {
      "cell_type": "markdown",
      "source": [
        "Check whether the triangle is equilateral, isosceles, or scalene triangle."
      ],
      "metadata": {
        "id": "9n5fUsolRGE4"
      }
    },
    {
      "cell_type": "code",
      "source": [
        "print(\"Input lengths of the triangle sides: \")\n",
        "x = int(input(\"x: \"))\n",
        "y = int(input(\"y: \"))\n",
        "z = int(input(\"z: \"))\n",
        "\n",
        "if x == y == z:\n",
        "\tprint(\"Equilateral triangle\")\n",
        "elif x==y or y==z or z==x:\n",
        "\tprint(\"isosceles triangle\")\n",
        "else:\n",
        "\tprint(\"Scalene triangle\")"
      ],
      "metadata": {
        "colab": {
          "base_uri": "https://localhost:8080/"
        },
        "id": "1xg2WwGyRcOZ",
        "outputId": "cdbe1d4d-4e29-4973-ee9f-c2ab670b1655"
      },
      "execution_count": 8,
      "outputs": [
        {
          "output_type": "stream",
          "name": "stdout",
          "text": [
            "Input lengths of the triangle sides: \n",
            "x: 2\n",
            "y: 3\n",
            "z: 4\n",
            "Scalene triangle\n"
          ]
        }
      ]
    },
    {
      "cell_type": "markdown",
      "source": [
        "Check whether entered year is a leap year or not"
      ],
      "metadata": {
        "id": "fKnyFbXeRp5P"
      }
    },
    {
      "cell_type": "markdown",
      "source": [
        "Find minimum among three numbers."
      ],
      "metadata": {
        "id": "U6A4JuTiSHeY"
      }
    },
    {
      "cell_type": "code",
      "source": [
        "a = int(input('Enter first number  : '))\n",
        "b = int(input('Enter second number : '))\n",
        "c = int(input('Enter third number  : '))\n",
        "\n",
        "smallest = 0\n",
        "\n",
        "if a < b and a < c :\n",
        "    smallest = a\n",
        "if b < a and b < c :\n",
        "    smallest = b\n",
        "if c < a and c < b :\n",
        "    smallest = c\n",
        "\n",
        "print(smallest, \"is the smallest of three numbers.\")"
      ],
      "metadata": {
        "colab": {
          "base_uri": "https://localhost:8080/"
        },
        "id": "-XzGx33-SUhh",
        "outputId": "2f8d742e-75d5-4be9-b6a5-0a0ccbc4b153"
      },
      "execution_count": 10,
      "outputs": [
        {
          "output_type": "stream",
          "name": "stdout",
          "text": [
            "Enter first number  : 1\n",
            "Enter second number : 2\n",
            "Enter third number  : 3\n",
            "1 is the smallest of three numbers.\n"
          ]
        }
      ]
    },
    {
      "cell_type": "markdown",
      "source": [
        "Check whether a number is divisible by 5 and 11 or not."
      ],
      "metadata": {
        "id": "5u7lVmuPSiLv"
      }
    },
    {
      "cell_type": "code",
      "source": [
        "number = int(input(\" Please Enter any Positive Integer : \"))\n",
        "\n",
        "if((number % 5 == 0) and (number % 11 == 0)):\n",
        "    print(\"Given Number {0} is Divisible by 5 and 11\".format(number))\n",
        "else:\n",
        "    print(\"Given Number {0} is Not Divisible by 5 and 11\".format(number))"
      ],
      "metadata": {
        "colab": {
          "base_uri": "https://localhost:8080/"
        },
        "id": "e8HrMOflS69_",
        "outputId": "e46ec204-278c-4420-d757-34d647997037"
      },
      "execution_count": 11,
      "outputs": [
        {
          "output_type": "stream",
          "name": "stdout",
          "text": [
            " Please Enter any Positive Integer : 1\n",
            "Given Number 1 is Not Divisible by 5 and 11\n"
          ]
        }
      ]
    },
    {
      "cell_type": "markdown",
      "source": [
        " Check whether a number is positive, negative or zero using switch case."
      ],
      "metadata": {
        "id": "J6XbQHywTOBO"
      }
    },
    {
      "cell_type": "code",
      "source": [
        "number=int(input(\"Enter the value of number: \"))\n",
        "if number>0:\n",
        "    print(\"The number is positive\")\n",
        "elif number==0:\n",
        "    print(\"The number is zero\")\n",
        "else:\n",
        "    print(\"The number is Negative\")"
      ],
      "metadata": {
        "colab": {
          "base_uri": "https://localhost:8080/"
        },
        "id": "dbI-gCrkTWkH",
        "outputId": "7649c7ed-252b-424d-b9e3-bba202ad4715"
      },
      "execution_count": 12,
      "outputs": [
        {
          "output_type": "stream",
          "name": "stdout",
          "text": [
            "Enter the value of number: -1\n",
            "The number is Negative\n"
          ]
        }
      ]
    }
  ]
}