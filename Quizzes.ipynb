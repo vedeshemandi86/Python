{
  "nbformat": 4,
  "nbformat_minor": 0,
  "metadata": {
    "colab": {
      "name": "Quizzes",
      "provenance": [],
      "collapsed_sections": [],
      "authorship_tag": "ABX9TyPiLOCXcLG3F5wJ/02232nr",
      "include_colab_link": true
    },
    "kernelspec": {
      "name": "python3",
      "display_name": "Python 3"
    },
    "language_info": {
      "name": "python"
    }
  },
  "cells": [
    {
      "cell_type": "markdown",
      "metadata": {
        "id": "view-in-github",
        "colab_type": "text"
      },
      "source": [
        "<a href=\"https://colab.research.google.com/github/vedeshemandi86/Python/blob/main/Quizzes.ipynb\" target=\"_parent\"><img src=\"https://colab.research.google.com/assets/colab-badge.svg\" alt=\"Open In Colab\"/></a>"
      ]
    },
    {
      "cell_type": "markdown",
      "source": [
        "# **Quiz 1**"
      ],
      "metadata": {
        "id": "4TwLckwBtiqU"
      }
    },
    {
      "cell_type": "markdown",
      "source": [
        "## Find out the square root of the number"
      ],
      "metadata": {
        "id": "MH6ZIuDmsXbN"
      }
    },
    {
      "cell_type": "code",
      "execution_count": 2,
      "metadata": {
        "colab": {
          "base_uri": "https://localhost:8080/"
        },
        "id": "bCDTiFtEry_E",
        "outputId": "70546af5-8175-4fe7-8b6c-0819936dae90"
      },
      "outputs": [
        {
          "output_type": "stream",
          "name": "stdout",
          "text": [
            "2.0\n"
          ]
        }
      ],
      "source": [
        "number = 4\n",
        "sqrt = number ** 0.5\n",
        "print(sqrt)"
      ]
    },
    {
      "cell_type": "markdown",
      "source": [
        "## Write a program of swapping of two numbers \n",
        "\n"
      ],
      "metadata": {
        "id": "E3ppPXLKslJa"
      }
    },
    {
      "cell_type": "code",
      "source": [
        "num1 = 2\n",
        "num2 = 3\n",
        "num1 = num1+num2\n",
        "num2 = num1-num2\n",
        "num1 = num1-num2\n",
        "print('Result =',num1,num2)"
      ],
      "metadata": {
        "colab": {
          "base_uri": "https://localhost:8080/"
        },
        "id": "EWhHUcSJsrS8",
        "outputId": "969aecf6-2ef0-439e-9886-a4b311bffba5"
      },
      "execution_count": 3,
      "outputs": [
        {
          "output_type": "stream",
          "name": "stdout",
          "text": [
            "Result = 3 2\n"
          ]
        }
      ]
    },
    {
      "cell_type": "markdown",
      "source": [
        "## Add Black color to the given list in the 4th place.\n",
        "\n",
        " Rainbow = ['Red', 'Orange', 'Yellow', 'Green'] "
      ],
      "metadata": {
        "id": "TGgL8c_BsvcU"
      }
    },
    {
      "cell_type": "code",
      "source": [
        "rainbow = ['Red', 'Orange', 'Yellow', 'Green']\n",
        "rainbow.insert(3,'Black')\n",
        "print(rainbow)"
      ],
      "metadata": {
        "colab": {
          "base_uri": "https://localhost:8080/"
        },
        "id": "ei3Yq4jis2hE",
        "outputId": "005e250b-e8e8-4879-8b70-932bf8668a9d"
      },
      "execution_count": 4,
      "outputs": [
        {
          "output_type": "stream",
          "name": "stdout",
          "text": [
            "['Red', 'Orange', 'Yellow', 'Black', 'Green']\n"
          ]
        }
      ]
    },
    {
      "cell_type": "markdown",
      "source": [
        "## Find out the Largest of three numbers from the give input"
      ],
      "metadata": {
        "id": "VcV1-1WHs63M"
      }
    },
    {
      "cell_type": "code",
      "source": [
        "a = 5\n",
        "b = 3\n",
        "c = 2\n",
        "if(a>b and a>c):\n",
        "    print('5')\n",
        "elif(b>a and b>c):\n",
        "    print('3')\n",
        "elif(c>a and c>b):\n",
        "    print('2')\n",
        "else:\n",
        "    print('error')"
      ],
      "metadata": {
        "colab": {
          "base_uri": "https://localhost:8080/"
        },
        "id": "WcVRJjE0tAP0",
        "outputId": "51314282-94ad-4a78-ceed-0b9fd2459730"
      },
      "execution_count": 5,
      "outputs": [
        {
          "output_type": "stream",
          "name": "stdout",
          "text": [
            "5\n"
          ]
        }
      ]
    }
  ]
}