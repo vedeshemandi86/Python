{
  "nbformat": 4,
  "nbformat_minor": 0,
  "metadata": {
    "colab": {
      "name": "Assignment-1    VU21CSEN0100347 ",
      "provenance": [],
      "collapsed_sections": [],
      "authorship_tag": "ABX9TyMAPG4OPnsbvroWSLa+cG3/",
      "include_colab_link": true
    },
    "kernelspec": {
      "name": "python3",
      "display_name": "Python 3"
    },
    "language_info": {
      "name": "python"
    }
  },
  "cells": [
    {
      "cell_type": "markdown",
      "metadata": {
        "id": "view-in-github",
        "colab_type": "text"
      },
      "source": [
        "<a href=\"https://colab.research.google.com/github/vedeshemandi86/Python/blob/main/Assignment_1_VU21CSEN0100347.ipynb\" target=\"_parent\"><img src=\"https://colab.research.google.com/assets/colab-badge.svg\" alt=\"Open In Colab\"/></a>"
      ]
    },
    {
      "cell_type": "markdown",
      "source": [
        "# **Lists**"
      ],
      "metadata": {
        "id": "UucAJKnmtBhw"
      }
    },
    {
      "cell_type": "markdown",
      "source": [
        "List"
      ],
      "metadata": {
        "id": "eSX59n7GtPZ_"
      }
    },
    {
      "cell_type": "code",
      "source": [
        "vedesh = ['onion','tomato','lemon','carrot']\n",
        "print(vedesh)"
      ],
      "metadata": {
        "colab": {
          "base_uri": "https://localhost:8080/"
        },
        "id": "_GYP1xTTtUx2",
        "outputId": "9b60f313-c947-4c04-fb72-a58a91929e7f"
      },
      "execution_count": 134,
      "outputs": [
        {
          "output_type": "stream",
          "name": "stdout",
          "text": [
            "['onion', 'tomato', 'lemon', 'carrot']\n"
          ]
        }
      ]
    },
    {
      "cell_type": "markdown",
      "source": [
        "List items"
      ],
      "metadata": {
        "id": "8vNEgae3t_7V"
      }
    },
    {
      "cell_type": "code",
      "source": [
        "vedesh = ['onion','tomato','lemon','carrot']\n",
        "print(vedesh[0])\n",
        "print(vedesh[-1])\n",
        "print(vedesh[3])\n",
        "print(vedesh[0:3])\n",
        "print(vedesh[1:4])\n",
        "print(vedesh[0:4])"
      ],
      "metadata": {
        "colab": {
          "base_uri": "https://localhost:8080/"
        },
        "id": "4TAnwXlluWi8",
        "outputId": "659fc33b-9667-4c3a-eda6-f1c53fb77d85"
      },
      "execution_count": 98,
      "outputs": [
        {
          "output_type": "stream",
          "name": "stdout",
          "text": [
            "onion\n",
            "carrot\n",
            "carrot\n",
            "['onion', 'tomato', 'lemon']\n",
            "['tomato', 'lemon', 'carrot']\n",
            "['onion', 'tomato', 'lemon', 'carrot']\n"
          ]
        }
      ]
    },
    {
      "cell_type": "markdown",
      "source": [
        "Allow duplicates"
      ],
      "metadata": {
        "id": "tshv0IC4vZs0"
      }
    },
    {
      "cell_type": "code",
      "source": [
        "vedesh = ['onion','tomato','lemon','carrot','tomato']\n",
        "print(vedesh)"
      ],
      "metadata": {
        "colab": {
          "base_uri": "https://localhost:8080/"
        },
        "id": "2QYD7t_YvcRI",
        "outputId": "b2076a3e-2e0b-43de-a4f3-662e6ccefe67"
      },
      "execution_count": 99,
      "outputs": [
        {
          "output_type": "stream",
          "name": "stdout",
          "text": [
            "['onion', 'tomato', 'lemon', 'carrot', 'tomato']\n"
          ]
        }
      ]
    },
    {
      "cell_type": "markdown",
      "source": [
        "List length"
      ],
      "metadata": {
        "id": "xIuY462-vot9"
      }
    },
    {
      "cell_type": "code",
      "source": [
        "vedesh = ['onion','tomato','lemon','carrot']\n",
        "print(len(vedesh))"
      ],
      "metadata": {
        "colab": {
          "base_uri": "https://localhost:8080/"
        },
        "id": "jsut_onxvr_c",
        "outputId": "c09e65ef-fbe6-4782-bf45-f514946a0a4e"
      },
      "execution_count": 100,
      "outputs": [
        {
          "output_type": "stream",
          "name": "stdout",
          "text": [
            "4\n"
          ]
        }
      ]
    },
    {
      "cell_type": "markdown",
      "source": [
        "Type"
      ],
      "metadata": {
        "id": "gn4YYQKZv7Qb"
      }
    },
    {
      "cell_type": "code",
      "source": [
        "vedesh = ['onion','tomato','lemon','carrot']\n",
        "print(type(vedesh))"
      ],
      "metadata": {
        "colab": {
          "base_uri": "https://localhost:8080/"
        },
        "id": "zijO7t4iwKPH",
        "outputId": "41c60908-fc9f-46d8-fe79-041530fb2aa4"
      },
      "execution_count": 101,
      "outputs": [
        {
          "output_type": "stream",
          "name": "stdout",
          "text": [
            "<class 'list'>\n"
          ]
        }
      ]
    },
    {
      "cell_type": "markdown",
      "source": [
        "The list() Constructor"
      ],
      "metadata": {
        "id": "1lqcVXlFwO_0"
      }
    },
    {
      "cell_type": "code",
      "source": [
        "vedesh = list((\"onion\",\"tomato\",\"lemon\",\"carrot\"))\n",
        "print(vedesh)"
      ],
      "metadata": {
        "colab": {
          "base_uri": "https://localhost:8080/"
        },
        "id": "M_KiG4EtwYPR",
        "outputId": "d8123982-1614-4d8e-df99-14a5683ec2da"
      },
      "execution_count": 102,
      "outputs": [
        {
          "output_type": "stream",
          "name": "stdout",
          "text": [
            "['onion', 'tomato', 'lemon', 'carrot']\n"
          ]
        }
      ]
    },
    {
      "cell_type": "markdown",
      "source": [
        "Access list items"
      ],
      "metadata": {
        "id": "hp85HMXZw14-"
      }
    },
    {
      "cell_type": "code",
      "source": [
        "vedesh = ['onion','tomato','lemon','carrot']\n",
        "print(vedesh[3])\n",
        "print(vedesh[2])\n",
        "print(vedesh[0])"
      ],
      "metadata": {
        "colab": {
          "base_uri": "https://localhost:8080/"
        },
        "id": "i-gZRrtkw80Q",
        "outputId": "b4b1ec13-2682-40fa-a751-73ad8db1b314"
      },
      "execution_count": 103,
      "outputs": [
        {
          "output_type": "stream",
          "name": "stdout",
          "text": [
            "carrot\n",
            "lemon\n",
            "onion\n"
          ]
        }
      ]
    },
    {
      "cell_type": "markdown",
      "source": [
        "Negetive indexing"
      ],
      "metadata": {
        "id": "6GaKNaXV0G8s"
      }
    },
    {
      "cell_type": "code",
      "source": [
        "vedesh = ['onion','tomato','lemon','carrot']\n",
        "print(vedesh[-2])\n",
        "print(vedesh[-1])"
      ],
      "metadata": {
        "colab": {
          "base_uri": "https://localhost:8080/"
        },
        "id": "JpAM1qSW0Muw",
        "outputId": "05eeabc5-a0d6-454a-851e-be672094f409"
      },
      "execution_count": 104,
      "outputs": [
        {
          "output_type": "stream",
          "name": "stdout",
          "text": [
            "lemon\n",
            "carrot\n"
          ]
        }
      ]
    },
    {
      "cell_type": "markdown",
      "source": [
        "Range of indexes"
      ],
      "metadata": {
        "id": "uybLbTcw0ai1"
      }
    },
    {
      "cell_type": "code",
      "source": [
        "vedesh = ['onion','tomato','lemon','carrot']\n",
        "print(vedesh[0:3])\n",
        "print(vedesh[1:4])\n",
        "print(vedesh[0:4])\n",
        "print(vedesh[:3])\n",
        "print(vedesh[2:])"
      ],
      "metadata": {
        "colab": {
          "base_uri": "https://localhost:8080/"
        },
        "id": "C-JrwbEu0guS",
        "outputId": "95535078-0218-4de1-9100-bff8dc98f755"
      },
      "execution_count": 105,
      "outputs": [
        {
          "output_type": "stream",
          "name": "stdout",
          "text": [
            "['onion', 'tomato', 'lemon']\n",
            "['tomato', 'lemon', 'carrot']\n",
            "['onion', 'tomato', 'lemon', 'carrot']\n",
            "['onion', 'tomato', 'lemon']\n",
            "['lemon', 'carrot']\n"
          ]
        }
      ]
    },
    {
      "cell_type": "markdown",
      "source": [
        "Range of Negative Indexes"
      ],
      "metadata": {
        "id": "0lQ3WrL70tFM"
      }
    },
    {
      "cell_type": "code",
      "source": [
        "vedesh = ['onion','tomato','lemon','carrot']\n",
        "print(vedesh[-4:-1])"
      ],
      "metadata": {
        "colab": {
          "base_uri": "https://localhost:8080/"
        },
        "id": "FM1uN1w81KGO",
        "outputId": "c99d92d6-c3ac-44f0-d1cd-3dc16d483d99"
      },
      "execution_count": 106,
      "outputs": [
        {
          "output_type": "stream",
          "name": "stdout",
          "text": [
            "['onion', 'tomato', 'lemon']\n"
          ]
        }
      ]
    },
    {
      "cell_type": "markdown",
      "source": [
        "Check if Item Exists"
      ],
      "metadata": {
        "id": "oZ26_3_n1R-S"
      }
    },
    {
      "cell_type": "code",
      "source": [
        "vedesh = ['onion','tomato','lemon','carrot']\n",
        "if \"onion\" in vedesh:\n",
        "  print(\"yes onion is in vedesh list\")"
      ],
      "metadata": {
        "colab": {
          "base_uri": "https://localhost:8080/"
        },
        "id": "cmhRdviz1Vc_",
        "outputId": "21692ef0-4063-4ed7-95fe-32bd40387178"
      },
      "execution_count": 107,
      "outputs": [
        {
          "output_type": "stream",
          "name": "stdout",
          "text": [
            "yes onion is in vedesh list\n"
          ]
        }
      ]
    },
    {
      "cell_type": "markdown",
      "source": [
        "Change Item Value\n"
      ],
      "metadata": {
        "id": "LW1ueEYA2DSh"
      }
    },
    {
      "cell_type": "code",
      "source": [
        "vedesh = ['onion','tomato','lemon','carrot']\n",
        "vedesh[2] = 'garlic'\n",
        "print(vedesh)"
      ],
      "metadata": {
        "colab": {
          "base_uri": "https://localhost:8080/"
        },
        "id": "DUCNB70U2Lw-",
        "outputId": "8452abfe-33f6-4ca8-e0f0-56de23bf872c"
      },
      "execution_count": 108,
      "outputs": [
        {
          "output_type": "stream",
          "name": "stdout",
          "text": [
            "['onion', 'tomato', 'garlic', 'carrot']\n"
          ]
        }
      ]
    },
    {
      "cell_type": "markdown",
      "source": [
        "Change a Range of Item Values\n"
      ],
      "metadata": {
        "id": "8YiTZYnd2pLg"
      }
    },
    {
      "cell_type": "code",
      "source": [
        "vedesh = ['onion','tomato','lemon','carrot']\n",
        "vedesh[1:4] = ['garlic','brinjal']\n",
        "vedesh[1:3] = ['capsicum']\n",
        "print(vedesh)"
      ],
      "metadata": {
        "colab": {
          "base_uri": "https://localhost:8080/"
        },
        "id": "eiTL7P-226AI",
        "outputId": "0765a034-ba08-413e-dce0-0568fcf10b33"
      },
      "execution_count": 109,
      "outputs": [
        {
          "output_type": "stream",
          "name": "stdout",
          "text": [
            "['onion', 'capsicum']\n"
          ]
        }
      ]
    },
    {
      "cell_type": "markdown",
      "source": [
        "Insert Items\n"
      ],
      "metadata": {
        "id": "kfHRWwnB5axc"
      }
    },
    {
      "cell_type": "code",
      "source": [
        "vedesh = ['onion','tomato','lemon','carrot']\n",
        "vedesh.insert(2,'garlic')\n",
        "print(vedesh)"
      ],
      "metadata": {
        "colab": {
          "base_uri": "https://localhost:8080/"
        },
        "id": "xilwcnjE65Dw",
        "outputId": "34f9eaa9-d213-40fa-b0e4-97f6e43b5201"
      },
      "execution_count": 110,
      "outputs": [
        {
          "output_type": "stream",
          "name": "stdout",
          "text": [
            "['onion', 'tomato', 'garlic', 'lemon', 'carrot']\n"
          ]
        }
      ]
    },
    {
      "cell_type": "markdown",
      "source": [
        "Append Items\n"
      ],
      "metadata": {
        "id": "0BrIE6kw7Ubl"
      }
    },
    {
      "cell_type": "code",
      "source": [
        "vedesh = ['onion','tomato','lemon','carrot']\n",
        "vedesh.append('garlic')\n",
        "print(vedesh)"
      ],
      "metadata": {
        "colab": {
          "base_uri": "https://localhost:8080/"
        },
        "id": "Fueyt1GI7cdy",
        "outputId": "7b43150e-c660-4895-dfd4-b1a8195cf96e"
      },
      "execution_count": 111,
      "outputs": [
        {
          "output_type": "stream",
          "name": "stdout",
          "text": [
            "['onion', 'tomato', 'lemon', 'carrot', 'garlic']\n"
          ]
        }
      ]
    },
    {
      "cell_type": "markdown",
      "source": [
        "Extend List\n"
      ],
      "metadata": {
        "id": "d3WycPkb7v4w"
      }
    },
    {
      "cell_type": "code",
      "source": [
        "vedesh = ['onion','tomato','lemon','carrot']\n",
        "emandi = ['garlic','brinjal','capsicum']\n",
        "vedesh.extend(emandi)\n",
        "print(vedesh)"
      ],
      "metadata": {
        "colab": {
          "base_uri": "https://localhost:8080/"
        },
        "id": "sOClUvH57wa-",
        "outputId": "715b1209-a3c2-4529-efcd-6f74e3fabc00"
      },
      "execution_count": 112,
      "outputs": [
        {
          "output_type": "stream",
          "name": "stdout",
          "text": [
            "['onion', 'tomato', 'lemon', 'carrot', 'garlic', 'brinjal', 'capsicum']\n"
          ]
        }
      ]
    },
    {
      "cell_type": "markdown",
      "source": [
        "Add Any Iterable\n"
      ],
      "metadata": {
        "id": "t6y9FdGm8MQ6"
      }
    },
    {
      "cell_type": "code",
      "source": [
        "vedesh = ['onion','tomato','lemon','carrot']\n",
        "emandi = ('garlic','brinjal','capsicum')\n",
        "vedesh.extend(emandi)\n",
        "print(vedesh)"
      ],
      "metadata": {
        "colab": {
          "base_uri": "https://localhost:8080/"
        },
        "id": "avew12lv8vf6",
        "outputId": "8a922a5d-b1c8-44f7-e19f-3d48cd5a7e96"
      },
      "execution_count": 113,
      "outputs": [
        {
          "output_type": "stream",
          "name": "stdout",
          "text": [
            "['onion', 'tomato', 'lemon', 'carrot', 'garlic', 'brinjal', 'capsicum']\n"
          ]
        }
      ]
    },
    {
      "cell_type": "markdown",
      "source": [
        "Remove Specified Item\n"
      ],
      "metadata": {
        "id": "KS8SgNMv9BIC"
      }
    },
    {
      "cell_type": "code",
      "source": [
        "vedesh = ['onion','tomato','lemon','carrot']\n",
        "vedesh.remove('tomato')\n",
        "print(vedesh)"
      ],
      "metadata": {
        "colab": {
          "base_uri": "https://localhost:8080/"
        },
        "id": "W9tK7heW9Hhu",
        "outputId": "24d35c96-182f-4fd3-c319-70a9a125e947"
      },
      "execution_count": 114,
      "outputs": [
        {
          "output_type": "stream",
          "name": "stdout",
          "text": [
            "['onion', 'lemon', 'carrot']\n"
          ]
        }
      ]
    },
    {
      "cell_type": "markdown",
      "source": [
        "Remove Specified Index\n"
      ],
      "metadata": {
        "id": "zynX4blw9aag"
      }
    },
    {
      "cell_type": "code",
      "source": [
        "vedesh = ['onion','tomato','lemon','carrot']\n",
        "vedesh.pop(1)\n",
        "print(vedesh)"
      ],
      "metadata": {
        "colab": {
          "base_uri": "https://localhost:8080/"
        },
        "id": "fF5tVHs89dDj",
        "outputId": "7f0a582a-265c-4161-d4ff-4faf44a51c9d"
      },
      "execution_count": 115,
      "outputs": [
        {
          "output_type": "stream",
          "name": "stdout",
          "text": [
            "['onion', 'lemon', 'carrot']\n"
          ]
        }
      ]
    },
    {
      "cell_type": "markdown",
      "source": [
        "Delete Specified Index\n"
      ],
      "metadata": {
        "id": "1eVkbmPa9uqy"
      }
    },
    {
      "cell_type": "code",
      "source": [
        "vedesh = ['onion','tomato','lemon','carrot']\n",
        "del vedesh[3]\n",
        "print(vedesh)"
      ],
      "metadata": {
        "colab": {
          "base_uri": "https://localhost:8080/"
        },
        "id": "ofv4z4Wj-Ams",
        "outputId": "7341a8b2-9119-48c4-c38a-c64ef879c0e2"
      },
      "execution_count": 116,
      "outputs": [
        {
          "output_type": "stream",
          "name": "stdout",
          "text": [
            "['onion', 'tomato', 'lemon']\n"
          ]
        }
      ]
    },
    {
      "cell_type": "markdown",
      "source": [
        "Clear the List\n"
      ],
      "metadata": {
        "id": "i6ONYrHa-iE6"
      }
    },
    {
      "cell_type": "code",
      "source": [
        "vedesh = ['onion','tomato','lemon','carrot']\n",
        "vedesh.clear()\n",
        "print(vedesh)"
      ],
      "metadata": {
        "colab": {
          "base_uri": "https://localhost:8080/"
        },
        "id": "wH0t9YZh-pp3",
        "outputId": "3d60762e-8281-4366-dd91-da9dfcefbf38"
      },
      "execution_count": 117,
      "outputs": [
        {
          "output_type": "stream",
          "name": "stdout",
          "text": [
            "[]\n"
          ]
        }
      ]
    },
    {
      "cell_type": "markdown",
      "source": [
        "Loop Through a List\n"
      ],
      "metadata": {
        "id": "StNhDCmi-9N9"
      }
    },
    {
      "cell_type": "code",
      "source": [
        "vedesh = ['onion','tomato','lemon','carrot']\n",
        "for v in vedesh:\n",
        "  print(v)"
      ],
      "metadata": {
        "colab": {
          "base_uri": "https://localhost:8080/"
        },
        "id": "CNfW4Auu_QCi",
        "outputId": "4115f137-93c7-42fe-ecb7-d129049e9369"
      },
      "execution_count": 118,
      "outputs": [
        {
          "output_type": "stream",
          "name": "stdout",
          "text": [
            "onion\n",
            "tomato\n",
            "lemon\n",
            "carrot\n"
          ]
        }
      ]
    },
    {
      "cell_type": "markdown",
      "source": [
        "Loop Through the Index Numbers\n"
      ],
      "metadata": {
        "id": "MKOhW6qZ_lyF"
      }
    },
    {
      "cell_type": "code",
      "source": [
        "vedesh = ['onion','tomato','lemon','carrot']\n",
        "for v in range(len(vedesh)):\n",
        "  print(vedesh[v])"
      ],
      "metadata": {
        "colab": {
          "base_uri": "https://localhost:8080/"
        },
        "id": "tdRnwFLp_mOS",
        "outputId": "7885be60-a881-42b9-fd88-1c06900ec554"
      },
      "execution_count": 119,
      "outputs": [
        {
          "output_type": "stream",
          "name": "stdout",
          "text": [
            "onion\n",
            "tomato\n",
            "lemon\n",
            "carrot\n"
          ]
        }
      ]
    },
    {
      "cell_type": "markdown",
      "source": [
        "Using a While Loop\n"
      ],
      "metadata": {
        "id": "Oc1w3AZY__rx"
      }
    },
    {
      "cell_type": "code",
      "source": [
        "vedesh = ['onion','tomato','lemon','carrot']\n",
        "v = 0\n",
        "while v < len(vedesh):\n",
        "  print(vedesh[v])\n",
        "  v = v + 1"
      ],
      "metadata": {
        "colab": {
          "base_uri": "https://localhost:8080/"
        },
        "id": "xCk7QV_mAERA",
        "outputId": "840d6d34-7cbe-4c4e-efd7-0811fa57ca0c"
      },
      "execution_count": 120,
      "outputs": [
        {
          "output_type": "stream",
          "name": "stdout",
          "text": [
            "onion\n",
            "tomato\n",
            "lemon\n",
            "carrot\n"
          ]
        }
      ]
    },
    {
      "cell_type": "markdown",
      "source": [
        "Looping Using List Comprehension\n"
      ],
      "metadata": {
        "id": "vMWk5f-dAUAT"
      }
    },
    {
      "cell_type": "code",
      "source": [
        "vedesh = ['onion','tomato','lemon','carrot']\n",
        "[print(v) for v in vedesh] "
      ],
      "metadata": {
        "colab": {
          "base_uri": "https://localhost:8080/"
        },
        "id": "_mLIlmJ9AWna",
        "outputId": "a9a49722-8683-480e-cb8a-dd1d21c0d51f"
      },
      "execution_count": 121,
      "outputs": [
        {
          "output_type": "stream",
          "name": "stdout",
          "text": [
            "onion\n",
            "tomato\n",
            "lemon\n",
            "carrot\n"
          ]
        },
        {
          "output_type": "execute_result",
          "data": {
            "text/plain": [
              "[None, None, None, None]"
            ]
          },
          "metadata": {},
          "execution_count": 121
        }
      ]
    },
    {
      "cell_type": "markdown",
      "source": [
        "List Comprehension\n"
      ],
      "metadata": {
        "id": "oYZzjseWApPy"
      }
    },
    {
      "cell_type": "code",
      "source": [
        "vedesh = ['onion','tomato','lemon','carrot']\n",
        "emandi = []\n",
        "\n",
        "for v in vedesh:\n",
        "  if \"a\" in v:\n",
        "    emandi.append(v)\n",
        "\n",
        "print(emandi)"
      ],
      "metadata": {
        "colab": {
          "base_uri": "https://localhost:8080/"
        },
        "id": "PRcjQoyMA_K4",
        "outputId": "5c761411-3a6b-452c-8d8b-53dc70a86804"
      },
      "execution_count": 122,
      "outputs": [
        {
          "output_type": "stream",
          "name": "stdout",
          "text": [
            "['tomato', 'carrot']\n"
          ]
        }
      ]
    },
    {
      "cell_type": "markdown",
      "source": [
        "Sort List Alphanumerically\n"
      ],
      "metadata": {
        "id": "slJrUhDZBZaj"
      }
    },
    {
      "cell_type": "code",
      "source": [
        "vedesh = ['onion','tomato','lemon','carrot']\n",
        "vedesh.sort()\n",
        "print(vedesh)"
      ],
      "metadata": {
        "colab": {
          "base_uri": "https://localhost:8080/"
        },
        "id": "Bqt076rOBaEa",
        "outputId": "f6da5ff4-7452-4d49-8f2b-d03fa0d3687a"
      },
      "execution_count": 123,
      "outputs": [
        {
          "output_type": "stream",
          "name": "stdout",
          "text": [
            "['carrot', 'lemon', 'onion', 'tomato']\n"
          ]
        }
      ]
    },
    {
      "cell_type": "code",
      "source": [
        "vedesh = [10,34,87,24]\n",
        "vedesh.sort()\n",
        "print(vedesh)"
      ],
      "metadata": {
        "colab": {
          "base_uri": "https://localhost:8080/"
        },
        "id": "CXOIIlQLBmNq",
        "outputId": "0e8ff323-4b71-4731-c5c9-af16495a5c90"
      },
      "execution_count": 124,
      "outputs": [
        {
          "output_type": "stream",
          "name": "stdout",
          "text": [
            "[10, 24, 34, 87]\n"
          ]
        }
      ]
    },
    {
      "cell_type": "markdown",
      "source": [
        "Sort Descending\n"
      ],
      "metadata": {
        "id": "6O_3-eisCG5N"
      }
    },
    {
      "cell_type": "code",
      "source": [
        "vedesh = [10,34,87,24]\n",
        "vedesh.sort(reverse=True)\n",
        "print(vedesh)"
      ],
      "metadata": {
        "colab": {
          "base_uri": "https://localhost:8080/"
        },
        "id": "ws3o45_PCHTq",
        "outputId": "bfe7a1ba-89df-40f4-fda5-38ec0f304f1a"
      },
      "execution_count": 125,
      "outputs": [
        {
          "output_type": "stream",
          "name": "stdout",
          "text": [
            "[87, 34, 24, 10]\n"
          ]
        }
      ]
    },
    {
      "cell_type": "code",
      "source": [
        "vedesh = ['onion','tomato','lemon','carrot']\n",
        "vedesh.sort(reverse=True)\n",
        "print(vedesh)"
      ],
      "metadata": {
        "colab": {
          "base_uri": "https://localhost:8080/"
        },
        "id": "w1LL8Lq6CTpI",
        "outputId": "214c732d-0422-49d9-bfee-16e468b51010"
      },
      "execution_count": 126,
      "outputs": [
        {
          "output_type": "stream",
          "name": "stdout",
          "text": [
            "['tomato', 'onion', 'lemon', 'carrot']\n"
          ]
        }
      ]
    },
    {
      "cell_type": "markdown",
      "source": [
        "Case Insensitive Sort\n"
      ],
      "metadata": {
        "id": "IMG191hhDI9H"
      }
    },
    {
      "cell_type": "code",
      "source": [
        "vedesh = [\"Onion\", \"tomato\", \"Lemon\", \"carrot\"]\n",
        "vedesh.sort()\n",
        "print(vedesh)"
      ],
      "metadata": {
        "colab": {
          "base_uri": "https://localhost:8080/"
        },
        "id": "X4wAA9UVDK7i",
        "outputId": "b92acd65-b17a-4158-b701-b007a3f022e4"
      },
      "execution_count": 127,
      "outputs": [
        {
          "output_type": "stream",
          "name": "stdout",
          "text": [
            "['Lemon', 'Onion', 'carrot', 'tomato']\n"
          ]
        }
      ]
    },
    {
      "cell_type": "code",
      "source": [
        "vedesh = ['onion','tomato','lemon','carrot']\n",
        "vedesh.sort(key = str.lower)\n",
        "print(vedesh)"
      ],
      "metadata": {
        "colab": {
          "base_uri": "https://localhost:8080/"
        },
        "id": "X3P2LreOEh_K",
        "outputId": "37f7e934-43a8-47f4-dc87-4f4f668cafc3"
      },
      "execution_count": 128,
      "outputs": [
        {
          "output_type": "stream",
          "name": "stdout",
          "text": [
            "['carrot', 'lemon', 'onion', 'tomato']\n"
          ]
        }
      ]
    },
    {
      "cell_type": "markdown",
      "source": [
        "Reverse Order\n"
      ],
      "metadata": {
        "id": "RUI3X0csFicC"
      }
    },
    {
      "cell_type": "code",
      "source": [
        "vedesh = ['onion','Tomato','lemon','Carrot']\n",
        "vedesh.reverse()\n",
        "print(vedesh)"
      ],
      "metadata": {
        "colab": {
          "base_uri": "https://localhost:8080/"
        },
        "id": "vjTCEHsMFmye",
        "outputId": "38c19b47-09fe-4846-9cc5-27569f76312f"
      },
      "execution_count": 129,
      "outputs": [
        {
          "output_type": "stream",
          "name": "stdout",
          "text": [
            "['Carrot', 'lemon', 'Tomato', 'onion']\n"
          ]
        }
      ]
    },
    {
      "cell_type": "markdown",
      "source": [
        "Copy a List\n"
      ],
      "metadata": {
        "id": "a3NzUynGF3QO"
      }
    },
    {
      "cell_type": "code",
      "source": [
        "vedesh = ['onion','tomato','lemon','carrot']\n",
        "mylist = vedesh.copy()\n",
        "print(mylist)"
      ],
      "metadata": {
        "colab": {
          "base_uri": "https://localhost:8080/"
        },
        "id": "YZoy-b0IGA9i",
        "outputId": "3c98f541-ea21-4e0b-e9ab-b2a18125ca68"
      },
      "execution_count": 130,
      "outputs": [
        {
          "output_type": "stream",
          "name": "stdout",
          "text": [
            "['onion', 'tomato', 'lemon', 'carrot']\n"
          ]
        }
      ]
    },
    {
      "cell_type": "code",
      "source": [
        "vedesh = ['onion','tomato','lemon','carrot']\n",
        "mylist = list(vedesh)\n",
        "print(mylist)"
      ],
      "metadata": {
        "colab": {
          "base_uri": "https://localhost:8080/"
        },
        "id": "3L7bkEtUGTcw",
        "outputId": "d0817ee3-08c2-461c-d34f-9e36782e6d34"
      },
      "execution_count": 131,
      "outputs": [
        {
          "output_type": "stream",
          "name": "stdout",
          "text": [
            "['onion', 'tomato', 'lemon', 'carrot']\n"
          ]
        }
      ]
    },
    {
      "cell_type": "markdown",
      "source": [
        "Join Two Lists\n"
      ],
      "metadata": {
        "id": "CecmMRs-GcUm"
      }
    },
    {
      "cell_type": "code",
      "source": [
        "vedesh = ['onion','tomato','lemon','carrot']\n",
        "emandi = [1,2,4,5]\n",
        "vedeshemandi = vedesh + emandi\n",
        "print(vedeshemandi)"
      ],
      "metadata": {
        "colab": {
          "base_uri": "https://localhost:8080/"
        },
        "id": "6PfX17xpGhRt",
        "outputId": "f5313216-a767-4edd-ee0a-36da662e8227"
      },
      "execution_count": 132,
      "outputs": [
        {
          "output_type": "stream",
          "name": "stdout",
          "text": [
            "['onion', 'tomato', 'lemon', 'carrot', 1, 2, 4, 5]\n"
          ]
        }
      ]
    },
    {
      "cell_type": "code",
      "source": [
        "vedesh = ['onion','tomato','lemon','carrot']\n",
        "emandi = [1,2,4,5]\n",
        "for v in emandi:\n",
        "  vedesh.append(v)\n",
        "print(vedesh)  "
      ],
      "metadata": {
        "colab": {
          "base_uri": "https://localhost:8080/"
        },
        "id": "o4kKPvoHHGfA",
        "outputId": "b2257982-43d6-4bfd-bd93-93c7c8f87d07"
      },
      "execution_count": 133,
      "outputs": [
        {
          "output_type": "stream",
          "name": "stdout",
          "text": [
            "['onion', 'tomato', 'lemon', 'carrot', 1, 2, 4, 5]\n"
          ]
        }
      ]
    }
  ]
}