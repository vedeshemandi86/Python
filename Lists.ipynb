{
  "nbformat": 4,
  "nbformat_minor": 0,
  "metadata": {
    "colab": {
      "name": "Lists",
      "provenance": [],
      "collapsed_sections": [],
      "authorship_tag": "ABX9TyPJeMDUsXAx1C/HmoyG0Jf8",
      "include_colab_link": true
    },
    "kernelspec": {
      "name": "python3",
      "display_name": "Python 3"
    },
    "language_info": {
      "name": "python"
    }
  },
  "cells": [
    {
      "cell_type": "markdown",
      "metadata": {
        "id": "view-in-github",
        "colab_type": "text"
      },
      "source": [
        "<a href=\"https://colab.research.google.com/github/vedeshemandi86/Python/blob/main/Lists.ipynb\" target=\"_parent\"><img src=\"https://colab.research.google.com/assets/colab-badge.svg\" alt=\"Open In Colab\"/></a>"
      ]
    },
    {
      "cell_type": "code",
      "source": [
        "fruit=[\"apple\",\"banana\",\"pappaya\",\"goa\"]\n",
        "print(fruit)\n",
        "print(fruit[0])#the first item of list\n",
        "print(fruit[-1])#the last item of list\n",
        "print(fruit[:1])#the first item of list\n",
        "print(fruit[1:4])#the second to last item of the list\n",
        "print(fruit[0:4])#the first to last item of list\n",
        "print(len(fruit))#the number of items in the list"
      ],
      "metadata": {
        "colab": {
          "base_uri": "https://localhost:8080/"
        },
        "id": "cG0s0Bv4WbJj",
        "outputId": "4b5bb939-d2fc-45d8-9667-2a5c7ae730d8"
      },
      "execution_count": 84,
      "outputs": [
        {
          "output_type": "stream",
          "name": "stdout",
          "text": [
            "['apple', 'banana', 'pappaya', 'goa']\n",
            "apple\n",
            "goa\n",
            "['apple']\n",
            "['banana', 'pappaya', 'goa']\n",
            "['apple', 'banana', 'pappaya', 'goa']\n",
            "4\n"
          ]
        }
      ]
    },
    {
      "cell_type": "code",
      "source": [
        "fruit = [\"apple\", \"banana\", \"cherry\"]\n",
        "if \"apple\" in fruit:\n",
        "  print(\"Yes, 'apple' is in the fruits list\")#to check if the item is present or not"
      ],
      "metadata": {
        "colab": {
          "base_uri": "https://localhost:8080/"
        },
        "id": "zWYWDoWdnD3X",
        "outputId": "d19e97bd-bd5b-4132-d546-f7191fa531de"
      },
      "execution_count": 88,
      "outputs": [
        {
          "output_type": "stream",
          "name": "stdout",
          "text": [
            "Yes, 'apple' is in the fruits list\n"
          ]
        }
      ]
    },
    {
      "cell_type": "code",
      "source": [
        "fruit = [\"apple\",\"banana\",\"pappaya\",\"goa\"]\n",
        "fruit.append(\"kiwi\")\n",
        "print(fruit)#to add an item"
      ],
      "metadata": {
        "colab": {
          "base_uri": "https://localhost:8080/"
        },
        "id": "No6xPjbrZrc7",
        "outputId": "78a3570a-0f4e-4392-e9ed-57735b77de12"
      },
      "execution_count": 79,
      "outputs": [
        {
          "output_type": "stream",
          "name": "stdout",
          "text": [
            "['apple', 'banana', 'pappaya', 'goa', 'kiwi']\n"
          ]
        }
      ]
    },
    {
      "cell_type": "code",
      "source": [
        "fruit = [\"apple\",\"banana\",\"pappaya\",\"goa\"]\n",
        "fruit.insert(3,\"kiwi\")\n",
        "print(fruit)#adds an item in given position"
      ],
      "metadata": {
        "colab": {
          "base_uri": "https://localhost:8080/"
        },
        "id": "xgs1BpyHcoZz",
        "outputId": "f3bae3af-c251-4b5d-b709-5ef21dda1a31"
      },
      "execution_count": 78,
      "outputs": [
        {
          "output_type": "stream",
          "name": "stdout",
          "text": [
            "['apple', 'banana', 'pappaya', 'kiwi', 'goa']\n"
          ]
        }
      ]
    },
    {
      "cell_type": "code",
      "source": [
        "fruit = [\"apple\",\"banana\",\"pappaya\",\"goa\"]\n",
        "fruit.remove(\"banana\")\n",
        "print(fruit)#removes an item"
      ],
      "metadata": {
        "colab": {
          "base_uri": "https://localhost:8080/"
        },
        "id": "62eli6aLdQDL",
        "outputId": "f8261765-33a5-4367-bb4f-7a58269b74b7"
      },
      "execution_count": 77,
      "outputs": [
        {
          "output_type": "stream",
          "name": "stdout",
          "text": [
            "['apple', 'pappaya', 'goa']\n"
          ]
        }
      ]
    },
    {
      "cell_type": "code",
      "source": [
        "fruit = [\"apple\",\"banana\",\"pappaya\",\"goa\"]\n",
        "ex=[\"mango\", \"pineapple\", \"papaya\",\"apple\"]\n",
        "fruit.extend(ex)\n",
        "print(fruit)#entends the list"
      ],
      "metadata": {
        "colab": {
          "base_uri": "https://localhost:8080/"
        },
        "id": "HKsyCCgxde6c",
        "outputId": "232367c1-efd7-494c-b544-d61faee2eb90"
      },
      "execution_count": 50,
      "outputs": [
        {
          "output_type": "stream",
          "name": "stdout",
          "text": [
            "['apple', 'banana', 'pappaya', 'goa', 'mango', 'pineapple', 'papaya', 'apple']\n"
          ]
        }
      ]
    },
    {
      "cell_type": "code",
      "source": [
        "num=[134,234,345]\n",
        "print(num)\n",
        "num.reverse()\n",
        "print(num)#to get in reverse order"
      ],
      "metadata": {
        "colab": {
          "base_uri": "https://localhost:8080/"
        },
        "id": "KAcoBIKFknu8",
        "outputId": "cd9ab5c9-21a2-442f-d528-c3f53640106d"
      },
      "execution_count": 71,
      "outputs": [
        {
          "output_type": "stream",
          "name": "stdout",
          "text": [
            "[134, 234, 345]\n",
            "[345, 234, 134]\n"
          ]
        }
      ]
    },
    {
      "cell_type": "code",
      "source": [
        "fruit = [\"apple\", \"banana\", \"cherry\"]\n",
        "fruit.pop(1)#to remove an item from the position\n",
        "print(fruit)"
      ],
      "metadata": {
        "colab": {
          "base_uri": "https://localhost:8080/"
        },
        "id": "7rOQlZ5_fVWT",
        "outputId": "c0a5db3b-fb9c-4179-a256-e58f55ad4f53"
      },
      "execution_count": 80,
      "outputs": [
        {
          "output_type": "stream",
          "name": "stdout",
          "text": [
            "['apple', 'cherry']\n"
          ]
        }
      ]
    },
    {
      "cell_type": "code",
      "source": [
        "num=[134,234,345]\n",
        "num.sort()\n",
        "print(num)#to rearrange in acsending order"
      ],
      "metadata": {
        "colab": {
          "base_uri": "https://localhost:8080/"
        },
        "id": "OC8vYhBEg8qM",
        "outputId": "bab6870a-418b-4b93-d62d-45e5b851acc1"
      },
      "execution_count": 81,
      "outputs": [
        {
          "output_type": "stream",
          "name": "stdout",
          "text": [
            "[134, 234, 345]\n"
          ]
        }
      ]
    },
    {
      "cell_type": "code",
      "source": [
        "num=[134,234,345]\n",
        "num.sort(reverse = True)\n",
        "print(num)#to rearrange in decsending order"
      ],
      "metadata": {
        "colab": {
          "base_uri": "https://localhost:8080/"
        },
        "id": "ZjzoJpfui598",
        "outputId": "5aed1f26-6d50-4ce7-b560-5af4ed97c0c7"
      },
      "execution_count": 82,
      "outputs": [
        {
          "output_type": "stream",
          "name": "stdout",
          "text": [
            "[345, 234, 134]\n"
          ]
        }
      ]
    },
    {
      "cell_type": "code",
      "source": [
        "fruit = [\"apple\",\"cherry\",\"banana\",]\n",
        "fruit.sort()\n",
        "print(fruit)"
      ],
      "metadata": {
        "colab": {
          "base_uri": "https://localhost:8080/"
        },
        "id": "Ym7c9vV0iOks",
        "outputId": "376f4882-03b7-4347-8b57-af5cc8b0753f"
      },
      "execution_count": 61,
      "outputs": [
        {
          "output_type": "stream",
          "name": "stdout",
          "text": [
            "['apple', 'banana', 'cherry']\n"
          ]
        }
      ]
    },
    {
      "cell_type": "code",
      "source": [
        "names=[\"Vedesh\",\"Bujji\",\"abhi\"]\n",
        "names.sort()\n",
        "print(names)#caps are first then follows small "
      ],
      "metadata": {
        "colab": {
          "base_uri": "https://localhost:8080/"
        },
        "id": "brHPHzELin_8",
        "outputId": "dc7dfbd0-c49b-41ac-ca8e-c4b68d5870e0"
      },
      "execution_count": 83,
      "outputs": [
        {
          "output_type": "stream",
          "name": "stdout",
          "text": [
            "['Bujji', 'Vedesh', 'abhi']\n"
          ]
        }
      ]
    },
    {
      "cell_type": "markdown",
      "source": [
        "Note: We cannot add or insert list items in tuple *()* "
      ],
      "metadata": {
        "id": "kpYGyWIokbKG"
      }
    },
    {
      "cell_type": "code",
      "source": [
        "fruit = [\"apple\", \"banana\", \"cherry\"]\n",
        "mylist = fruit.copy()\n",
        "print(mylist)#to copy a list"
      ],
      "metadata": {
        "colab": {
          "base_uri": "https://localhost:8080/"
        },
        "id": "tKOIWRT1lejt",
        "outputId": "67f91636-a28e-4057-b802-1d23aa99e5ad"
      },
      "execution_count": 74,
      "outputs": [
        {
          "output_type": "stream",
          "name": "stdout",
          "text": [
            "['apple', 'banana', 'cherry']\n"
          ]
        }
      ]
    },
    {
      "cell_type": "code",
      "source": [
        "fruit = [\"apple\", \"banana\", \"cherry\"]\n",
        "mylist = list(fruit)\n",
        "print(mylist)"
      ],
      "metadata": {
        "colab": {
          "base_uri": "https://localhost:8080/"
        },
        "id": "Zletvh4dmPjt",
        "outputId": "96035d94-718f-4792-a827-c719d546176c"
      },
      "execution_count": 90,
      "outputs": [
        {
          "output_type": "stream",
          "name": "stdout",
          "text": [
            "['apple', 'banana', 'cherry']\n"
          ]
        }
      ]
    },
    {
      "cell_type": "code",
      "source": [
        "fruit=[\"apple\",\"banana\",\"pappaya\",\"goa\"]\n",
        "del fruit[2]\n",
        "print(fruit)"
      ],
      "metadata": {
        "colab": {
          "base_uri": "https://localhost:8080/"
        },
        "id": "bTk2F-18pWKO",
        "outputId": "27b456d7-74df-457a-d708-4249486c7607"
      },
      "execution_count": 92,
      "outputs": [
        {
          "output_type": "stream",
          "name": "stdout",
          "text": [
            "['apple', 'banana', 'goa']\n"
          ]
        }
      ]
    }
  ]
}